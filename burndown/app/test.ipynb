{
 "cells": [
  {
   "cell_type": "code",
   "execution_count": 1,
   "metadata": {},
   "outputs": [],
   "source": [
    "from gql import Client, gql\n",
    "from gql.transport.aiohttp import AIOHTTPTransport\n",
    "from os import environ\n",
    "\n",
    "\n",
    "# Select your transport with a defined url endpoint\n",
    "transport = AIOHTTPTransport(url=\"https://api.github.com/graphql\", \n",
    "                             headers={'Authorization': f\"Bearer {environ['GITHUB_TOKEN']}\"})\n",
    "\n",
    "# Create a GraphQL client using the defined transport\n",
    "client = Client(transport=transport, fetch_schema_from_transport=True)"
   ]
  },
  {
   "cell_type": "code",
   "execution_count": 24,
   "metadata": {},
   "outputs": [],
   "source": [
    "\n",
    "# Provide a GraphQL query\n",
    "query = gql(\n",
    "    \"\"\"\n",
    "        query($project_id: ID!, $item_number: Int!, $after: String!){\n",
    "        node(id: $project_id){ \n",
    "            ... on ProjectV2 {\n",
    "            items(first: $item_number, after: $after) {\n",
    "                nodes{ \n",
    "                id, \n",
    "                type,\n",
    "                fieldValues(first: 100){\n",
    "                    nodes{\n",
    "                    ... on ProjectV2ItemFieldTextValue {\n",
    "                        text\n",
    "                        field {\n",
    "                        ... on ProjectV2FieldCommon {\n",
    "                            name\n",
    "                        }\n",
    "                        }\n",
    "                    }\n",
    "                    ... on ProjectV2ItemFieldSingleSelectValue {\n",
    "                        name\n",
    "                        field {\n",
    "                        ... on ProjectV2FieldCommon {\n",
    "                            name\n",
    "                        }\n",
    "                        }\n",
    "                    }\n",
    "                    ... on ProjectV2ItemFieldIterationValue {\n",
    "                        title\n",
    "                        field {\n",
    "                        ... on ProjectV2FieldCommon {\n",
    "                            name\n",
    "                        }\n",
    "                        }\n",
    "                    }\n",
    "                    ... on ProjectV2ItemFieldNumberValue {\n",
    "                        number,\n",
    "                        field {\n",
    "                        ... on ProjectV2FieldCommon {\n",
    "                            name\n",
    "                        }\n",
    "                        }\n",
    "                    }\n",
    "                    }\n",
    "                },\n",
    "                content{\n",
    "                    ... on DraftIssue {\n",
    "                    assignees(first: 10) {\n",
    "                        nodes{\n",
    "                        login\n",
    "                        }\n",
    "                    }\n",
    "                    }\n",
    "                    ...on Issue {\n",
    "                    assignees(first: 10) {\n",
    "                        nodes{\n",
    "                        login\n",
    "                        }\n",
    "                    }\n",
    "                    }\n",
    "                    ...on PullRequest {\n",
    "                    assignees(first: 10) {\n",
    "                        nodes{\n",
    "                        login\n",
    "                        }\n",
    "                    }\n",
    "                    }\n",
    "                },\n",
    "                },\n",
    "                totalCount,\n",
    "                pageInfo {\n",
    "                endCursor\n",
    "                startCursor\n",
    "                hasNextPage\n",
    "                hasPreviousPage\n",
    "                }\n",
    "            }\n",
    "            }\n",
    "        }\n",
    "        }\n",
    "\"\"\"\n",
    ")"
   ]
  },
  {
   "cell_type": "code",
   "execution_count": 25,
   "metadata": {},
   "outputs": [],
   "source": [
    "params = {\"project_id\": environ['PROJECT_ID'], \"item_number\":3, \"after\":\"Mw\"}\n",
    "# Execute the query on the transport\n",
    "# result = client.execute(query)\n",
    "result = await client.execute_async(query, variable_values=params)"
   ]
  },
  {
   "cell_type": "code",
   "execution_count": 20,
   "metadata": {},
   "outputs": [
    {
     "data": {
      "text/plain": [
       "{'endCursor': 'Ng',\n",
       " 'startCursor': 'NA',\n",
       " 'hasNextPage': True,\n",
       " 'hasPreviousPage': True}"
      ]
     },
     "execution_count": 20,
     "metadata": {},
     "output_type": "execute_result"
    }
   ],
   "source": [
    "result['node']['items']['pageInfo']"
   ]
  },
  {
   "cell_type": "code",
   "execution_count": 22,
   "metadata": {},
   "outputs": [],
   "source": [
    "class Issue:\n",
    "    id:str\n",
    "    type:str = \"DRAFT_ISSUE\"\n",
    "    title:str = \"\"\n",
    "    status:str = \"None\"\n",
    "    iteration:str = \"\"\n",
    "    estimate:float = 0.0\n",
    "    actual:float = 0.0\n",
    "    assignees:list[str] = []\n",
    "\n",
    "    def __init__(self, node:dict):\n",
    "        self.id = node['id']\n",
    "        self.type = node['type']\n",
    "        for field in node['fieldValues']['nodes']:\n",
    "            if(\"field\" in field):\n",
    "                name = field[\"field\"][\"name\"]\n",
    "                if(name == \"Title\"): self.title = field['text']\n",
    "                if(name == \"Iteration\"): self.iteration = field['title']\n",
    "                if(name == \"Status\"): self.status = field['name']\n",
    "                if(name == \"Estimate\"): self.estimate = field['number']\n",
    "                if(name == \"Actual\"): self.actual = field['number']\n",
    "\n",
    "        for assignee in node['content']['assignees']['nodes']:\n",
    "            self.assignees.append(assignee['login'])\n",
    "    \n",
    "    def to_dict(self):\n",
    "        obj = dict({})\n",
    "        obj['id'] = self.id\n",
    "        obj['type'] = self.type\n",
    "        obj['title'] = self.title\n",
    "        obj['status'] = self.status\n",
    "        obj['iteration'] = self.iteration\n",
    "        obj['estimate'] = self.estimate\n",
    "        obj['actual'] = self.actual\n",
    "        obj['assignees'] = self.assignees\n",
    "        return obj"
   ]
  },
  {
   "cell_type": "code",
   "execution_count": 28,
   "metadata": {},
   "outputs": [
    {
     "name": "stdout",
     "output_type": "stream",
     "text": [
      "NQ MQ True False\n",
      "MTA Ng True True\n",
      "MTU MTE True True\n",
      "MjA MTY True True\n",
      "MjU MjE True True\n",
      "MzA MjY True True\n",
      "MzU MzE True True\n",
      "NDA MzY True True\n",
      "NDU NDE True True\n",
      "NTA NDY True True\n",
      "NTU NTE True True\n",
      "NjA NTY False True\n"
     ]
    }
   ],
   "source": [
    "issues = []\n",
    "hasNextPage = True\n",
    "endCursor = \"null\"\n",
    "\n",
    "while hasNextPage:\n",
    "    params = {\"project_id\": environ['PROJECT_ID'], \"item_number\":5, \"after\":endCursor}\n",
    "    # Execute the query on the transport\n",
    "    # result = client.execute(query)\n",
    "    result = await client.execute_async(query, variable_values=params)\n",
    "    for node in result['node']['items']['nodes']:\n",
    "        issue = Issue(node)\n",
    "        issues.append(issue.to_dict())\n",
    "    # {'endCursor': 'Ng',\n",
    "    #  'startCursor': 'NA',\n",
    "    #  'hasNextPage': True,\n",
    "    #  'hasPreviousPage': True}\n",
    "    pageInfo = result['node']['items']['pageInfo']\n",
    "    endCursor = pageInfo['endCursor']\n",
    "    startCursor = pageInfo['startCursor']\n",
    "    hasNextPage = pageInfo['hasNextPage']\n",
    "    hasPreviousPage = pageInfo['hasPreviousPage']\n",
    "    print(startCursor,endCursor,hasNextPage,hasPreviousPage)\n"
   ]
  },
  {
   "cell_type": "code",
   "execution_count": 29,
   "metadata": {},
   "outputs": [],
   "source": [
    "import pandas as pd\n",
    "df = pd.DataFrame.from_records(issues, index=\"id\")"
   ]
  },
  {
   "cell_type": "code",
   "execution_count": 9,
   "metadata": {},
   "outputs": [
    {
     "data": {
      "text/plain": [
       "'20240220-124752'"
      ]
     },
     "execution_count": 9,
     "metadata": {},
     "output_type": "execute_result"
    }
   ],
   "source": [
    "from datetime import datetime\n",
    "time = datetime.now().strftime(\"%Y%m%d-%H%M%S\")\n",
    "time"
   ]
  },
  {
   "cell_type": "code",
   "execution_count": 10,
   "metadata": {},
   "outputs": [],
   "source": [
    "df.to_json(path_or_buf=f\"/src/data/{time}.json\")"
   ]
  },
  {
   "cell_type": "code",
   "execution_count": null,
   "metadata": {},
   "outputs": [],
   "source": []
  },
  {
   "cell_type": "code",
   "execution_count": 11,
   "metadata": {},
   "outputs": [
    {
     "data": {
      "text/plain": [
       "rec.array([('PVTI_lADOCU5NV84AcKb4zgMc_HY', 'DRAFT_ISSUE', 'Fixing/Recheck/Revisit Architecture That Supports the Models', 'None', 'Iteration 2', 0., 0., list(['akraradets', 'anuj-guptaa', 'guntsvzz'])),\n",
       "           ('PVTI_lADOCU5NV84AcKb4zgMelz8', 'ISSUE', 'Create fields for flow account form and DB schema', 'In progress', 'Iteration 2', 0., 0., list(['akraradets', 'anuj-guptaa', 'guntsvzz'])),\n",
       "           ('PVTI_lADOCU5NV84AcKb4zgMtovU', 'DRAFT_ISSUE', 'Documentation - Model APIs - Text, Image, Table/Graph', 'Review', 'Iteration 2', 0., 0., list(['akraradets', 'anuj-guptaa', 'guntsvzz']))],\n",
       "          dtype=[('id', 'O'), ('type', 'O'), ('title', 'O'), ('status', 'O'), ('iteration', 'O'), ('estimate', '<f8'), ('actual', '<f8'), ('assignees', 'O')])"
      ]
     },
     "execution_count": 11,
     "metadata": {},
     "output_type": "execute_result"
    }
   ],
   "source": [
    "df.to_records()"
   ]
  },
  {
   "cell_type": "code",
   "execution_count": 15,
   "metadata": {},
   "outputs": [
    {
     "data": {
      "text/plain": [
       "'query($project_id: ID!){\\n  node(id: $project_id){ \\n    ... on ProjectV2 {\\n      items(first: 3) {\\n        nodes{ \\n          id, \\n          type,\\n          fieldValues(first: 100){\\n            nodes{\\n              ... on ProjectV2ItemFieldTextValue {\\n                text\\n                field {\\n                  ... on ProjectV2FieldCommon {\\n                    name\\n                  }\\n                }\\n              }\\n              ... on ProjectV2ItemFieldSingleSelectValue {\\n                name\\n                field {\\n                  ... on ProjectV2FieldCommon {\\n                    name\\n                  }\\n                }\\n              }\\n              ... on ProjectV2ItemFieldIterationValue {\\n                title\\n                field {\\n                  ... on ProjectV2FieldCommon {\\n                    name\\n                  }\\n                }\\n              }\\n              ... on ProjectV2ItemFieldNumberValue {\\n                number,\\n                field {\\n                  ... on ProjectV2FieldCommon {\\n                    name\\n                  }\\n                }\\n              }\\n            }\\n          },\\n          content{\\n            ... on DraftIssue {\\n              assignees(first: 10) {\\n                nodes{\\n                login\\n                }\\n              }\\n            }\\n            ...on Issue {\\n              assignees(first: 10) {\\n                nodes{\\n                login\\n                }\\n              }\\n            }\\n            ...on PullRequest {\\n              assignees(first: 10) {\\n                nodes{\\n                login\\n                }\\n              }\\n            }\\n          },\\n        },\\n        totalCount,\\n        pageInfo {\\n          endCursor\\n          startCursor\\n          hasNextPage\\n          hasPreviousPage\\n        }\\n      }\\n    }\\n  }\\n}'"
      ]
     },
     "execution_count": 15,
     "metadata": {},
     "output_type": "execute_result"
    }
   ],
   "source": [
    "f = open(\"./request_string.graphql\", \"r\").read()\n",
    "f"
   ]
  }
 ],
 "metadata": {
  "kernelspec": {
   "display_name": ".venv",
   "language": "python",
   "name": "python3"
  },
  "language_info": {
   "codemirror_mode": {
    "name": "ipython",
    "version": 3
   },
   "file_extension": ".py",
   "mimetype": "text/x-python",
   "name": "python",
   "nbconvert_exporter": "python",
   "pygments_lexer": "ipython3",
   "version": "3.10.12"
  }
 },
 "nbformat": 4,
 "nbformat_minor": 2
}
